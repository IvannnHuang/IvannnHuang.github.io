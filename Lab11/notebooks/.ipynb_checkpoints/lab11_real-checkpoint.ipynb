{
 "cells": [
  {
   "cell_type": "markdown",
   "metadata": {
    "tags": []
   },
   "source": [
    "# Lab 11: Grid Localization using Bayes Filter (Real Robot)\n",
    "\n",
    "### <span style=\"color:rgb(0,150,0)\">It is recommended that you close any heavy-duty applications running on your system while working on this lab.</span>\n",
    "\n",
    "### <span style=\"color:rgb(0,150,0)\">The notebook only provides skeleton code for you to integrate the Localization class with the Real Robot.</span>\n",
    "\n",
    "<hr>"
   ]
  },
  {
   "cell_type": "code",
   "execution_count": 23,
   "metadata": {},
   "outputs": [
    {
     "name": "stdout",
     "output_type": "stream",
     "text": [
      "The autoreload extension is already loaded. To reload it, use:\n",
      "  %reload_ext autoreload\n",
      "2025-04-29 17:09:36,869 |\u001b[32m INFO     \u001b[0m|: Logger demo_notebook.log already initialized.\n",
      "2025-04-29 17:09:36,870 |\u001b[32m INFO     \u001b[0m|: GUI is already running. Shutdown notebook to force restart the GUI.\n"
     ]
    }
   ],
   "source": [
    "%load_ext autoreload\n",
    "%autoreload 2\n",
    "\n",
    "import traceback\n",
    "from notebook_utils import *\n",
    "from Traj import *\n",
    "import asyncio\n",
    "import pathlib\n",
    "import os\n",
    "from utils import load_config_params\n",
    "from localization_extras import Localization\n",
    "\n",
    "# The imports below will only work if you copied the required ble-related python files \n",
    "# into the notebooks directory\n",
    "from ble import get_ble_controller\n",
    "from base_ble import LOG\n",
    "from cmd_types import CMD\n",
    "import numpy as np\n",
    "\n",
    "# Setup Logger\n",
    "LOG = get_logger('demo_notebook.log')\n",
    "LOG.propagate = False\n",
    "\n",
    "# Init GUI and Commander\n",
    "gui = GET_GUI()\n",
    "cmdr = gui.launcher.commander"
   ]
  },
  {
   "cell_type": "code",
   "execution_count": 2,
   "metadata": {},
   "outputs": [],
   "source": [
    "# Start the plotter\n",
    "START_PLOTTER()"
   ]
  },
  {
   "cell_type": "markdown",
   "metadata": {},
   "source": [
    "# The RealRobot class\n",
    "Define the RealRobot class in the code cell below, based on the documentation and your real robot communication protocol. <br>\n",
    "This class is used by the **Localization** class to communicate with the real robot. <br>\n",
    "More specifically, the **Localization** class utilizes the **RealRobot's** member function **perform_observation_loop()** to get the 18 sensor readings and store them in its member variable **obs_range_data**, which is then utilized in the update step."
   ]
  },
  {
   "cell_type": "code",
   "execution_count": 24,
   "metadata": {},
   "outputs": [],
   "source": [
    "import re\n",
    "import numpy as np\n",
    "import time\n",
    "\n",
    "sensor_data_index = 0\n",
    "sensor_data = [[0.0 for _ in range(1)] for _ in range(18)]\n",
    "msg = None\n",
    "\n",
    "def data_collect(uuid, byte_array):\n",
    "    global sensor_data_index\n",
    "    global sensor_data\n",
    "    msg = ble.bytearray_to_string(byte_array)\n",
    "    data = re.findall(r'-?\\d+\\.\\d+', msg)\n",
    "    if sensor_data_index < len(sensor_data):\n",
    "        sensor_data[sensor_data_index] = [float(num) for num in data]\n",
    "        sensor_data_index += 1\n",
    "\n",
    "class RealRobot():\n",
    "    \"\"\"A class to interact with the real robot\n",
    "    \"\"\"\n",
    "    def __init__(self, commander, ble):\n",
    "        # Load world config\n",
    "        self.world_config = os.path.join(str(pathlib.Path(os.getcwd()).parent), \"config\", \"world.yaml\")\n",
    "        \n",
    "        self.config_params = load_config_params(self.world_config)\n",
    "        \n",
    "        # Commander to commuincate with the Plotter process\n",
    "        # Used by the Localization module to plot odom and belief\n",
    "        self.cmdr = commander\n",
    "\n",
    "        # ArtemisBLEController to communicate with the Robot\n",
    "        self.ble = ble\n",
    "\n",
    "    def get_pose(self):\n",
    "        \"\"\"Get robot pose based on odometry\n",
    "        \n",
    "        Returns:\n",
    "            current_odom -- Odometry Pose (meters, meters, degrees)\n",
    "        \"\"\"\n",
    "        raise NotImplementedError(\"get_pose is not implemented\")\n",
    "    \n",
    "    def perform_observation_loop(self, rot_vel=120):\n",
    "        \"\"\"Perform the observation loop behavior on the real robot, where the robot does  \n",
    "        a 360 degree turn in place while collecting equidistant (in the angular space) sensor\n",
    "        readings, with the first sensor reading taken at the robot's current heading. \n",
    "        The number of sensor readings depends on \"observations_count\"(=18) defined in world.yaml.\n",
    "        \n",
    "        Keyword arguments:\n",
    "            rot_vel -- (Optional) Angular Velocity for loop (degrees/second)\n",
    "                        Do not remove this parameter from the function definition, even if you don't use it.\n",
    "        Returns:\n",
    "            sensor_ranges   -- A column numpy array of the range values (meters)\n",
    "            sensor_bearings -- A column numpy array of the bearings at which the sensor readings were taken (degrees)\n",
    "                               The bearing values are not used in the Localization module, so you may return a empty numpy array\n",
    "        \"\"\"\n",
    "        global sensor_data, sensor_data_index \n",
    "        sensor_data_index = 0\n",
    "        sensor_data = [[0.0 for _ in range(1)] for _ in range(18)]\n",
    "        \n",
    "        self.ble.start_notify(self.ble.uuid['RX_STRING'], data_collect)\n",
    "    \n",
    "        # Send command to rotate + scan\n",
    "        self.ble.send_command(CMD.LOCALIZATION, f\"60|3|0.005|200|1.28|100|95|800\")\n",
    "    \n",
    "        # Wait for data to finish collecting (tune based on your duration)\n",
    "        import asyncio\n",
    "        asyncio.run(asyncio.sleep(20))\n",
    "    \n",
    "        self.ble.stop_notify(self.ble.uuid['RX_STRING'])\n",
    "    \n",
    "        sensor_ranges = np.array(sensor_data) / 1000.0\n",
    "        sensor_bearings = np.array([])[np.newaxis].T\n",
    "        \n",
    "        return sensor_ranges, sensor_bearings"
   ]
  },
  {
   "cell_type": "code",
   "execution_count": 33,
   "metadata": {},
   "outputs": [
    {
     "name": "stdout",
     "output_type": "stream",
     "text": [
      "2025-04-29 17:12:01,477 |\u001b[32m INFO     \u001b[0m|: Looking for Artemis Nano Peripheral Device: c0:c3:e4:25:23:51\n",
      "2025-04-29 17:12:05,620 |\u001b[32m INFO     \u001b[0m|: Connected to c0:c3:e4:25:23:51\n"
     ]
    }
   ],
   "source": [
    "ble = get_ble_controller()\n",
    "ble.connect()"
   ]
  },
  {
   "cell_type": "code",
   "execution_count": 34,
   "metadata": {},
   "outputs": [
    {
     "name": "stdout",
     "output_type": "stream",
     "text": [
      "2025-04-29 17:12:06,733 |\u001b[32m INFO     \u001b[0m|:  | Number of observations per grid cell: 18\n",
      "2025-04-29 17:12:06,734 |\u001b[32m INFO     \u001b[0m|:  | Precaching Views...\n",
      "2025-04-29 17:12:10,216 |\u001b[32m INFO     \u001b[0m|:  | Precaching Time: 3.480 secs\n",
      "2025-04-29 17:12:10,218 |\u001b[32m INFO     \u001b[0m|: Initializing beliefs with a Uniform Distribution\n",
      "2025-04-29 17:12:10,219 |\u001b[32m INFO     \u001b[0m|: Uniform Belief with each cell value: 0.00051440329218107\n"
     ]
    }
   ],
   "source": [
    "# Initialize RealRobot with a Commander object to communicate with the plotter process\n",
    "# and the ArtemisBLEController object to communicate with the real robot\n",
    "robot = RealRobot(cmdr, ble)\n",
    "\n",
    "# Initialize mapper\n",
    "# Requires a VirtualRobot object as a parameter\n",
    "mapper = Mapper(robot)\n",
    "\n",
    "# Initialize your BaseLocalization object\n",
    "# Requires a RealRobot object and a Mapper object as parameters\n",
    "loc = Localization(robot, mapper)\n",
    "\n",
    "## Plot Map\n",
    "cmdr.plot_map()"
   ]
  },
  {
   "cell_type": "markdown",
   "metadata": {},
   "source": [
    "# Run an update step of the Bayes Filter"
   ]
  },
  {
   "cell_type": "code",
   "execution_count": 35,
   "metadata": {},
   "outputs": [
    {
     "name": "stdout",
     "output_type": "stream",
     "text": [
      "2025-04-29 17:12:10,525 |\u001b[32m INFO     \u001b[0m|: Initializing beliefs with a Uniform Distribution\n",
      "2025-04-29 17:12:10,526 |\u001b[32m INFO     \u001b[0m|: Uniform Belief with each cell value: 0.00051440329218107\n",
      "[[0.546061]\n",
      " [0.583605]\n",
      " [0.573878]\n",
      " [0.563533]\n",
      " [0.544512]\n",
      " [0.924333]\n",
      " [0.533159]\n",
      " [0.571311]\n",
      " [0.525157]\n",
      " [0.572833]\n",
      " [0.571714]\n",
      " [0.576674]\n",
      " [0.55072 ]\n",
      " [0.559924]\n",
      " [0.542   ]\n",
      " [0.550113]\n",
      " [0.569642]\n",
      " [0.56988 ]]\n",
      "2025-04-29 17:12:30,863 |\u001b[32m INFO     \u001b[0m|: Update Step\n",
      "2025-04-29 17:12:30,865 |\u001b[32m INFO     \u001b[0m|:      | Update Time: 0.001 secs\n",
      "2025-04-29 17:12:30,866 |\u001b[32m INFO     \u001b[0m|: Bel index     : (np.int64(8), np.int64(4), np.int64(6)) with prob = 0.2158239\n",
      "2025-04-29 17:12:30,867 |\u001b[32m INFO     \u001b[0m|: Bel_bar prob at index = 0.00051440329218107\n",
      "2025-04-29 17:12:30,868 |\u001b[32m INFO     \u001b[0m|: Belief        : (0.914, 0.000, -50.000)\n"
     ]
    }
   ],
   "source": [
    "# Reset Plots\n",
    "cmdr.reset_plotter()\n",
    "\n",
    "# Init Uniform Belief\n",
    "loc.init_grid_beliefs()\n",
    "\n",
    "# Get Observation Data by executing a 360 degree rotation motion\n",
    "loc.get_observation_data()\n",
    "\n",
    "# Run Update Step\n",
    "loc.update_step()\n",
    "loc.plot_update_step_data(plot_data=True)\n",
    "\n",
    "# Plot Odom and GT\n",
    "# current_odom, current_gt = robot.get_pose()\n",
    "# cmdr.plot_gt(current_gt[0], current_gt[1])\n",
    "# cmdr.plot_odom(current_odom[0], current_odom[1])"
   ]
  },
  {
   "cell_type": "code",
   "execution_count": 36,
   "metadata": {},
   "outputs": [
    {
     "name": "stdout",
     "output_type": "stream",
     "text": [
      "2025-04-29 17:12:30,971 |\u001b[32m INFO     \u001b[0m|: Initializing beliefs with a Uniform Distribution\n",
      "2025-04-29 17:12:30,972 |\u001b[32m INFO     \u001b[0m|: Uniform Belief with each cell value: 0.00051440329218107\n",
      "[[0.568214]\n",
      " [0.528219]\n",
      " [0.574375]\n",
      " [0.5615  ]\n",
      " [0.56513 ]\n",
      " [0.530048]\n",
      " [0.578523]\n",
      " [0.567568]\n",
      " [1.003186]\n",
      " [0.532755]\n",
      " [0.554255]\n",
      " [0.565431]\n",
      " [0.546739]\n",
      " [0.573844]\n",
      " [0.56184 ]\n",
      " [0.577232]\n",
      " [0.534441]\n",
      " [0.538954]]\n",
      "2025-04-29 17:12:51,263 |\u001b[32m INFO     \u001b[0m|: Update Step\n",
      "2025-04-29 17:12:51,265 |\u001b[32m INFO     \u001b[0m|:      | Update Time: 0.001 secs\n",
      "2025-04-29 17:12:51,266 |\u001b[32m INFO     \u001b[0m|: Bel index     : (np.int64(8), np.int64(4), np.int64(3)) with prob = 0.2497293\n",
      "2025-04-29 17:12:51,266 |\u001b[32m INFO     \u001b[0m|: Bel_bar prob at index = 0.00051440329218107\n",
      "2025-04-29 17:12:51,267 |\u001b[32m INFO     \u001b[0m|: Belief        : (0.914, 0.000, -110.000)\n"
     ]
    }
   ],
   "source": [
    "\n",
    "# Init Uniform Belief\n",
    "loc.init_grid_beliefs()\n",
    "\n",
    "# Get Observation Data by executing a 360 degree rotation motion\n",
    "loc.get_observation_data()\n",
    "\n",
    "# Run Update Step\n",
    "loc.update_step()\n",
    "loc.plot_update_step_data(plot_data=True)"
   ]
  },
  {
   "cell_type": "code",
   "execution_count": 13,
   "metadata": {},
   "outputs": [
    {
     "name": "stdout",
     "output_type": "stream",
     "text": [
      "2025-04-24 17:14:23,414 |\u001b[32m INFO     \u001b[0m|: Disconnected from C0:C3:E4:25:23:51\n"
     ]
    }
   ],
   "source": [
    "ble.disconnect()"
   ]
  },
  {
   "cell_type": "code",
   "execution_count": 14,
   "metadata": {},
   "outputs": [],
   "source": [
    "point00 = [[0.000, 0.000, -10.000], [0.000, 0.000, -10.000], [0.000, 0.000, -10.000]]"
   ]
  },
  {
   "cell_type": "code",
   "execution_count": 23,
   "metadata": {},
   "outputs": [],
   "source": [
    "point03 = [[0.000, 0.914, -10.000], [0.000, 0.914, -10.000], [0.000, 0.914, -10.000]]"
   ]
  },
  {
   "cell_type": "code",
   "execution_count": 16,
   "metadata": {},
   "outputs": [],
   "source": [
    "point_3_2 = [[-0.610, -0.610, -10.000], [-0.914, -0.610, 10.000], [-0.914, -0.610, 10.000]]"
   ]
  },
  {
   "cell_type": "code",
   "execution_count": 7,
   "metadata": {},
   "outputs": [],
   "source": [
    "point53 = [[1.524, 0.9140, -30.000], [1.524, 0.610, -30.000], [1.524, 0.914, -30.000]]"
   ]
  },
  {
   "cell_type": "code",
   "execution_count": 31,
   "metadata": {},
   "outputs": [],
   "source": [
    "point5_3 = [[1.524, -0.914, -10.000], [0.914, -1.219, -50.000], [1.524, -0.914, -10.000]]"
   ]
  },
  {
   "cell_type": "code",
   "execution_count": 8,
   "metadata": {},
   "outputs": [],
   "source": [
    "loc.plot_pose(point53[0], point53[1], point53[2], [1.53, 0.92])"
   ]
  },
  {
   "cell_type": "code",
   "execution_count": null,
   "metadata": {},
   "outputs": [],
   "source": []
  }
 ],
 "metadata": {
  "kernelspec": {
   "display_name": "Python 3 (ipykernel)",
   "language": "python",
   "name": "python3"
  },
  "language_info": {
   "codemirror_mode": {
    "name": "ipython",
    "version": 3
   },
   "file_extension": ".py",
   "mimetype": "text/x-python",
   "name": "python",
   "nbconvert_exporter": "python",
   "pygments_lexer": "ipython3",
   "version": "3.13.3"
  }
 },
 "nbformat": 4,
 "nbformat_minor": 4
}

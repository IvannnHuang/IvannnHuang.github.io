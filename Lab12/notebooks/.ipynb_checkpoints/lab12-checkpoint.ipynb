{
 "cells": [
  {
   "cell_type": "markdown",
   "metadata": {
    "tags": []
   },
   "source": [
    "# Lab 12: Path Planning and Execution\n",
    "<hr>"
   ]
  },
  {
   "cell_type": "code",
   "execution_count": 1,
   "metadata": {},
   "outputs": [
    {
     "name": "stdout",
     "output_type": "stream",
     "text": [
      "2025-05-09 14:52:58,689 |\u001b[32m INFO     \u001b[0m|: Logger demo_notebook.log initialized.\n"
     ]
    }
   ],
   "source": [
    "%load_ext autoreload\n",
    "%autoreload 2\n",
    "\n",
    "import traceback\n",
    "from notebook_utils import *\n",
    "from Traj import *\n",
    "import asyncio\n",
    "import pathlib\n",
    "import os\n",
    "from utils import load_config_params\n",
    "from localization_extras import Localization\n",
    "\n",
    "# The imports below will only work if you copied the required ble-related python files \n",
    "# into the notebooks directory\n",
    "from ble import get_ble_controller\n",
    "from base_ble import LOG\n",
    "from cmd_types import CMD\n",
    "import numpy as np\n",
    "\n",
    "# Setup Logger\n",
    "LOG = get_logger('demo_notebook.log')\n",
    "LOG.propagate = False\n",
    "\n",
    "# Init GUI and Commander\n",
    "gui = GET_GUI()\n",
    "cmdr = gui.launcher.commander"
   ]
  },
  {
   "cell_type": "code",
   "execution_count": 2,
   "metadata": {},
   "outputs": [],
   "source": [
    "# Start the plotter\n",
    "START_PLOTTER()"
   ]
  },
  {
   "cell_type": "markdown",
   "metadata": {},
   "source": [
    "# The RealRobot class\n",
    "Define the RealRobot class in the code cell below, based on the documentation and your real robot communication protocol. <br>\n",
    "This class is used by the **Localization** class to communicate with the real robot. <br>\n",
    "More specifically, the **Localization** class utilizes the **RealRobot's** member function **perform_observation_loop()** to get the 18 sensor readings and store them in its member variable **obs_range_data**, which is then utilized in the update step."
   ]
  },
  {
   "cell_type": "code",
   "execution_count": 3,
   "metadata": {},
   "outputs": [],
   "source": [
    "import re\n",
    "import numpy as np\n",
    "import time\n",
    "\n",
    "sensor_data_index = 0\n",
    "sensor_data = [[0.0 for _ in range(1)] for _ in range(18)]\n",
    "msg = None\n",
    "\n",
    "def data_collect(uuid, byte_array):\n",
    "    global sensor_data_index\n",
    "    global sensor_data\n",
    "    msg = ble.bytearray_to_string(byte_array)\n",
    "    data = re.findall(r'-?\\d+\\.\\d+', msg)\n",
    "    if sensor_data_index < len(sensor_data):\n",
    "        sensor_data[sensor_data_index] = [float(num) for num in data]\n",
    "        sensor_data_index += 1\n",
    "\n",
    "class RealRobot():\n",
    "    \"\"\"A class to interact with the real robot\n",
    "    \"\"\"\n",
    "    def __init__(self, commander, ble):\n",
    "        # Load world config\n",
    "        self.world_config = os.path.join(str(pathlib.Path(os.getcwd()).parent), \"config\", \"world.yaml\")\n",
    "        \n",
    "        self.config_params = load_config_params(self.world_config)\n",
    "        \n",
    "        # Commander to commuincate with the Plotter process\n",
    "        # Used by the Localization module to plot odom and belief\n",
    "        self.cmdr = commander\n",
    "\n",
    "        # ArtemisBLEController to communicate with the Robot\n",
    "        self.ble = ble\n",
    "\n",
    "    def get_pose(self):\n",
    "        \"\"\"Get robot pose based on odometry\n",
    "        \n",
    "        Returns:\n",
    "            current_odom -- Odometry Pose (meters, meters, degrees)\n",
    "        \"\"\"\n",
    "        raise NotImplementedError(\"get_pose is not implemented\")\n",
    "    \n",
    "    def perform_observation_loop(self, rot_vel=120):\n",
    "        \"\"\"Perform the observation loop behavior on the real robot, where the robot does  \n",
    "        a 360 degree turn in place while collecting equidistant (in the angular space) sensor\n",
    "        readings, with the first sensor reading taken at the robot's current heading. \n",
    "        The number of sensor readings depends on \"observations_count\"(=18) defined in world.yaml.\n",
    "        \n",
    "        Keyword arguments:\n",
    "            rot_vel -- (Optional) Angular Velocity for loop (degrees/second)\n",
    "                        Do not remove this parameter from the function definition, even if you don't use it.\n",
    "        Returns:\n",
    "            sensor_ranges   -- A column numpy array of the range values (meters)\n",
    "            sensor_bearings -- A column numpy array of the bearings at which the sensor readings were taken (degrees)\n",
    "                               The bearing values are not used in the Localization module, so you may return a empty numpy array\n",
    "        \"\"\"\n",
    "        global sensor_data, sensor_data_index \n",
    "        sensor_data_index = 0\n",
    "        sensor_data = [[0.0 for _ in range(1)] for _ in range(18)]\n",
    "        \n",
    "        self.ble.start_notify(self.ble.uuid['RX_STRING'], data_collect)\n",
    "    \n",
    "        # Send command to rotate + scan\n",
    "        self.ble.send_command(CMD.LOCALIZATION, f\"60|3|0.005|200|1.28|100|95|800\")\n",
    "    \n",
    "        # Wait for data to finish collecting (tune based on your duration)\n",
    "        import asyncio\n",
    "        asyncio.run(asyncio.sleep(20))\n",
    "    \n",
    "        self.ble.stop_notify(self.ble.uuid['RX_STRING'])\n",
    "    \n",
    "        sensor_ranges = np.array(sensor_data) / 1000.0\n",
    "        sensor_bearings = np.array([])[np.newaxis].T\n",
    "        \n",
    "        return sensor_ranges, sensor_bearings"
   ]
  },
  {
   "cell_type": "code",
   "execution_count": 4,
   "metadata": {},
   "outputs": [
    {
     "ename": "NameError",
     "evalue": "name 'ble' is not defined",
     "output_type": "error",
     "traceback": [
      "\u001b[1;31m---------------------------------------------------------------------------\u001b[0m",
      "\u001b[1;31mNameError\u001b[0m                                 Traceback (most recent call last)",
      "Cell \u001b[1;32mIn[4], line 1\u001b[0m\n\u001b[1;32m----> 1\u001b[0m \u001b[43mble\u001b[49m\u001b[38;5;241m.\u001b[39mdisconnect()\n",
      "\u001b[1;31mNameError\u001b[0m: name 'ble' is not defined"
     ]
    }
   ],
   "source": [
    "ble.disconnect()"
   ]
  },
  {
   "cell_type": "code",
   "execution_count": 5,
   "metadata": {},
   "outputs": [
    {
     "name": "stdout",
     "output_type": "stream",
     "text": [
      "2025-05-09 14:54:06,198 |\u001b[32m INFO     \u001b[0m|: Looking for Artemis Nano Peripheral Device: c0:c3:e4:25:23:51\n",
      "2025-05-09 14:54:10,817 |\u001b[32m INFO     \u001b[0m|: Connected to c0:c3:e4:25:23:51\n"
     ]
    },
    {
     "name": "stderr",
     "output_type": "stream",
     "text": [
      "C:\\Users\\qijin\\Documents\\Ece4160\\IvannnHuang.github.io\\Lab12\\notebooks\\base_ble.py:104: FutureWarning: This method will be removed future version, pass the callback to the BleakClient constructor instead.\n",
      "  self.client.set_disconnected_callback(self.disconnect_handler)\n"
     ]
    }
   ],
   "source": [
    "ble = get_ble_controller()\n",
    "ble.connect()"
   ]
  },
  {
   "cell_type": "code",
   "execution_count": 6,
   "metadata": {},
   "outputs": [
    {
     "name": "stdout",
     "output_type": "stream",
     "text": [
      "2025-05-09 14:54:11,893 |\u001b[32m INFO     \u001b[0m|:  | Number of observations per grid cell: 18\n",
      "2025-05-09 14:54:11,900 |\u001b[32m INFO     \u001b[0m|:  | Precaching Views...\n"
     ]
    },
    {
     "name": "stderr",
     "output_type": "stream",
     "text": [
      "C:\\Users\\qijin\\Documents\\Ece4160\\IvannnHuang.github.io\\Lab12\\localization.py:150: RuntimeWarning: All-NaN slice encountered\n",
      "  return np.nanmin(distance_intersections_tt), intersections_tt[np.nanargmin(distance_intersections_tt)]\n"
     ]
    },
    {
     "name": "stdout",
     "output_type": "stream",
     "text": [
      "2025-05-09 14:54:14,410 |\u001b[32m INFO     \u001b[0m|:  | Precaching Time: 2.510 secs\n",
      "2025-05-09 14:54:14,411 |\u001b[32m INFO     \u001b[0m|: Initializing beliefs with a Uniform Distribution\n",
      "2025-05-09 14:54:14,412 |\u001b[32m INFO     \u001b[0m|: Uniform Belief with each cell value: 0.00051440329218107\n"
     ]
    }
   ],
   "source": [
    "# Initialize RealRobot with a Commander object to communicate with the plotter process\n",
    "# and the ArtemisBLEController object to communicate with the real robot\n",
    "robot = RealRobot(cmdr, ble)\n",
    "\n",
    "# Initialize mapper\n",
    "# Requires a VirtualRobot object as a parameter\n",
    "mapper = Mapper(robot)\n",
    "\n",
    "# Initialize your BaseLocalization object\n",
    "# Requires a RealRobot object and a Mapper object as parameters\n",
    "loc = Localization(robot, mapper)\n",
    "\n",
    "## Plot Map\n",
    "cmdr.plot_map()"
   ]
  },
  {
   "cell_type": "markdown",
   "metadata": {},
   "source": [
    "# Run an update step of the Bayes Filter"
   ]
  },
  {
   "cell_type": "code",
   "execution_count": 9,
   "metadata": {},
   "outputs": [
    {
     "name": "stdout",
     "output_type": "stream",
     "text": [
      "2025-05-09 12:31:40,214 |\u001b[32m INFO     \u001b[0m|: Initializing beliefs with a Uniform Distribution\n",
      "2025-05-09 12:31:40,215 |\u001b[32m INFO     \u001b[0m|: Uniform Belief with each cell value: 0.00051440329218107\n",
      "[[1.335299]\n",
      " [1.994962]]\n",
      "2025-05-09 12:32:00,697 |\u001b[32m INFO     \u001b[0m|: Update Step\n",
      "2025-05-09 12:32:00,702 |\u001b[32m INFO     \u001b[0m|:      | Update Time: 0.002 secs\n",
      "2025-05-09 12:32:00,704 |\u001b[32m INFO     \u001b[0m|: Bel index     : (np.int64(1), np.int64(0), np.int64(9)) with prob = 0.9999999\n",
      "2025-05-09 12:32:00,706 |\u001b[32m INFO     \u001b[0m|: Bel_bar prob at index = 0.00051440329218107\n",
      "2025-05-09 12:32:00,709 |\u001b[32m INFO     \u001b[0m|: Belief        : (-1.219, -1.219, 10.000)\n"
     ]
    }
   ],
   "source": [
    "cmdr.reset_plotter()\n",
    "loc.init_grid_beliefs()\n",
    "loc.get_observation_data()\n",
    "loc.update_step()\n",
    "loc.plot_update_step_data(plot_data=True)"
   ]
  },
  {
   "cell_type": "code",
   "execution_count": 10,
   "metadata": {},
   "outputs": [],
   "source": [
    "ble.send_command(CMD.NAVIGATION, f\"20|0.04|0.4|100|3|0.005|150|1.5|-4|-3|-2|-1|45|100|90|1.5|200|350|4.6\") "
   ]
  },
  {
   "cell_type": "code",
   "execution_count": 11,
   "metadata": {},
   "outputs": [
    {
     "name": "stdout",
     "output_type": "stream",
     "text": [
      "2025-05-09 12:32:01,078 |\u001b[32m INFO     \u001b[0m|: Initializing beliefs with a Uniform Distribution\n",
      "2025-05-09 12:32:01,079 |\u001b[32m INFO     \u001b[0m|: Uniform Belief with each cell value: 0.00051440329218107\n",
      "[[2.800532]\n",
      " [1.939277]]\n",
      "2025-05-09 12:32:28,479 |\u001b[32m INFO     \u001b[0m|: Update Step\n",
      "2025-05-09 12:32:28,485 |\u001b[32m INFO     \u001b[0m|:      | Update Time: 0.004 secs\n",
      "2025-05-09 12:32:28,489 |\u001b[32m INFO     \u001b[0m|: Bel index     : (np.int64(2), np.int64(2), np.int64(9)) with prob = 0.9999999\n",
      "2025-05-09 12:32:28,492 |\u001b[32m INFO     \u001b[0m|: Bel_bar prob at index = 0.00051440329218107\n",
      "2025-05-09 12:32:28,495 |\u001b[32m INFO     \u001b[0m|: Belief        : (-0.914, -0.610, 10.000)\n"
     ]
    }
   ],
   "source": [
    "loc.init_grid_beliefs()\n",
    "loc.get_observation_data()\n",
    "loc.update_step()\n",
    "loc.plot_update_step_data(plot_data=True)"
   ]
  },
  {
   "cell_type": "code",
   "execution_count": 28,
   "metadata": {},
   "outputs": [],
   "source": [
    "cmdr.reset_plotter()\n",
    "pos = [[-1.219, -1.219, 10.000], [-0.91400, -0.61, 10.000], [0.30500, -0.305, -30.000], [0.610, -0.914, -10.000], [1.524, -0.914, -10.000], [1.829, -0.305, 10.000], [1.524, 0.810, -30.000], [0.000, 1.219, 10.000], [-0.305, -0.305, -10.000]]\n",
    "pos1 = [[-1.2, -0.9, 10.000], [-0.900, -0.25, 10.000], [0.32500, -0.305, -30.000], [0.7, -0.95, -10], [1.589, -0.914, -10.000], [1.594, -0.554, -10.000], [1.554, 0.955, 130.000], [-0.050, 1.219, 10.000], [-0.235, -0.210, -10.000]]\n",
    "loc.plot_pose(pos[0], pos[1], pos[2], pos1[0], pos1[1], pos1[2])\n",
    "loc.plot_pose(pos[3], pos[4], pos[5], pos1[3], pos1[4], pos1[5])\n",
    "loc.plot_pose(pos[6], pos[7], pos[8], pos1[6], pos1[7], pos1[8])"
   ]
  },
  {
   "cell_type": "code",
   "execution_count": 26,
   "metadata": {},
   "outputs": [
    {
     "ename": "Exception",
     "evalue": "Not connected to a BLE device",
     "output_type": "error",
     "traceback": [
      "\u001b[1;31m---------------------------------------------------------------------------\u001b[0m",
      "\u001b[1;31mException\u001b[0m                                 Traceback (most recent call last)",
      "Cell \u001b[1;32mIn[26], line 2\u001b[0m\n\u001b[0;32m      1\u001b[0m cmdr\u001b[38;5;241m.\u001b[39mreset_plotter()\n\u001b[1;32m----> 2\u001b[0m \u001b[43mble\u001b[49m\u001b[38;5;241;43m.\u001b[39;49m\u001b[43msend_command\u001b[49m\u001b[43m(\u001b[49m\u001b[43mCMD\u001b[49m\u001b[38;5;241;43m.\u001b[39;49m\u001b[43mNAVIGATION\u001b[49m\u001b[43m,\u001b[49m\u001b[43m \u001b[49m\u001b[38;5;124;43mf\u001b[39;49m\u001b[38;5;124;43m\"\u001b[39;49m\u001b[38;5;124;43m20|0.04|0.4|100|3|0.005|150|1.5|-2|-1|1|-1|45|100|90|1.5|200|300|4.6\u001b[39;49m\u001b[38;5;124;43m\"\u001b[39;49m\u001b[43m)\u001b[49m  \n\u001b[0;32m      3\u001b[0m loc\u001b[38;5;241m.\u001b[39minit_grid_beliefs()\n\u001b[0;32m      4\u001b[0m loc\u001b[38;5;241m.\u001b[39mget_observation_data()\n",
      "File \u001b[1;32m~\\Documents\\Ece4160\\IvannnHuang.github.io\\Lab12\\notebooks\\ble.py:158\u001b[0m, in \u001b[0;36mArtemisBLEController.send_command\u001b[1;34m(self, cmd_type, data)\u001b[0m\n\u001b[0;32m    155\u001b[0m cmd_string \u001b[38;5;241m=\u001b[39m \u001b[38;5;28mstr\u001b[39m(cmd_type\u001b[38;5;241m.\u001b[39mvalue) \u001b[38;5;241m+\u001b[39m \u001b[38;5;124m\"\u001b[39m\u001b[38;5;124m:\u001b[39m\u001b[38;5;124m\"\u001b[39m \u001b[38;5;241m+\u001b[39m \u001b[38;5;28mstr\u001b[39m(data)\n\u001b[0;32m    157\u001b[0m \u001b[38;5;28;01mif\u001b[39;00m \u001b[38;5;28mlen\u001b[39m(cmd_string) \u001b[38;5;241m<\u001b[39m \u001b[38;5;28mself\u001b[39m\u001b[38;5;241m.\u001b[39mmax_write_length:\n\u001b[1;32m--> 158\u001b[0m     \u001b[38;5;28;43mself\u001b[39;49m\u001b[38;5;241;43m.\u001b[39;49m\u001b[43mwrite\u001b[49m\u001b[43m(\u001b[49m\u001b[38;5;28;43mself\u001b[39;49m\u001b[38;5;241;43m.\u001b[39;49m\u001b[43muuid\u001b[49m\u001b[43m[\u001b[49m\u001b[38;5;124;43m'\u001b[39;49m\u001b[38;5;124;43mTX_CMD_STRING\u001b[39;49m\u001b[38;5;124;43m'\u001b[39;49m\u001b[43m]\u001b[49m\u001b[43m,\u001b[49m\u001b[43m \u001b[49m\u001b[38;5;28;43mbytearray\u001b[39;49m\u001b[43m(\u001b[49m\u001b[38;5;28;43mmap\u001b[39;49m\u001b[43m(\u001b[49m\u001b[38;5;28;43mord\u001b[39;49m\u001b[43m,\u001b[49m\u001b[43m \u001b[49m\u001b[43mcmd_string\u001b[49m\u001b[43m)\u001b[49m\u001b[43m)\u001b[49m\u001b[43m)\u001b[49m\n\u001b[0;32m    159\u001b[0m \u001b[38;5;28;01melse\u001b[39;00m:\n\u001b[0;32m    160\u001b[0m     \u001b[38;5;28;01mraise\u001b[39;00m \u001b[38;5;167;01mException\u001b[39;00m(\u001b[38;5;124m\"\u001b[39m\u001b[38;5;124mCannot write string larger than \u001b[39m\u001b[38;5;132;01m{}\u001b[39;00m\u001b[38;5;124m bytes\u001b[39m\u001b[38;5;124m\"\u001b[39m\u001b[38;5;241m.\u001b[39mformat(\n\u001b[0;32m    161\u001b[0m         \u001b[38;5;28mself\u001b[39m\u001b[38;5;241m.\u001b[39mmax_write_length))\n",
      "File \u001b[1;32m~\\Documents\\Ece4160\\IvannnHuang.github.io\\Lab12\\notebooks\\ble.py:75\u001b[0m, in \u001b[0;36mBaseBLEController.write\u001b[1;34m(self, uuid, byte_array)\u001b[0m\n\u001b[0;32m     74\u001b[0m \u001b[38;5;28;01mdef\u001b[39;00m\u001b[38;5;250m \u001b[39m\u001b[38;5;21mwrite\u001b[39m(\u001b[38;5;28mself\u001b[39m, uuid, byte_array):\n\u001b[1;32m---> 75\u001b[0m     \u001b[38;5;28;43mself\u001b[39;49m\u001b[38;5;241;43m.\u001b[39;49m\u001b[43m_wait\u001b[49m\u001b[43m(\u001b[49m\u001b[38;5;28;43mself\u001b[39;49m\u001b[38;5;241;43m.\u001b[39;49m\u001b[43mdevice\u001b[49m\u001b[38;5;241;43m.\u001b[39;49m\u001b[43m_write\u001b[49m\u001b[43m(\u001b[49m\u001b[43muuid\u001b[49m\u001b[43m,\u001b[49m\u001b[43m \u001b[49m\u001b[43mbyte_array\u001b[49m\u001b[43m)\u001b[49m\u001b[43m)\u001b[49m\n",
      "File \u001b[1;32m~\\Documents\\Ece4160\\IvannnHuang.github.io\\Lab12\\notebooks\\base_ble.py:27\u001b[0m, in \u001b[0;36mwait_b\u001b[1;34m(coroutine)\u001b[0m\n\u001b[0;32m     26\u001b[0m \u001b[38;5;28;01mdef\u001b[39;00m\u001b[38;5;250m \u001b[39m\u001b[38;5;21mwait_b\u001b[39m(coroutine):\n\u001b[1;32m---> 27\u001b[0m     \u001b[38;5;28;01mreturn\u001b[39;00m \u001b[43masyncio\u001b[49m\u001b[38;5;241;43m.\u001b[39;49m\u001b[43mrun\u001b[49m\u001b[43m(\u001b[49m\u001b[43mcoroutine\u001b[49m\u001b[43m)\u001b[49m\n",
      "File \u001b[1;32m~\\Documents\\Ece4160\\FastRobots_ble\\Lib\\site-packages\\nest_asyncio.py:30\u001b[0m, in \u001b[0;36m_patch_asyncio.<locals>.run\u001b[1;34m(main, debug)\u001b[0m\n\u001b[0;32m     28\u001b[0m task \u001b[38;5;241m=\u001b[39m asyncio\u001b[38;5;241m.\u001b[39mensure_future(main)\n\u001b[0;32m     29\u001b[0m \u001b[38;5;28;01mtry\u001b[39;00m:\n\u001b[1;32m---> 30\u001b[0m     \u001b[38;5;28;01mreturn\u001b[39;00m \u001b[43mloop\u001b[49m\u001b[38;5;241;43m.\u001b[39;49m\u001b[43mrun_until_complete\u001b[49m\u001b[43m(\u001b[49m\u001b[43mtask\u001b[49m\u001b[43m)\u001b[49m\n\u001b[0;32m     31\u001b[0m \u001b[38;5;28;01mfinally\u001b[39;00m:\n\u001b[0;32m     32\u001b[0m     \u001b[38;5;28;01mif\u001b[39;00m \u001b[38;5;129;01mnot\u001b[39;00m task\u001b[38;5;241m.\u001b[39mdone():\n",
      "File \u001b[1;32m~\\Documents\\Ece4160\\FastRobots_ble\\Lib\\site-packages\\nest_asyncio.py:98\u001b[0m, in \u001b[0;36m_patch_loop.<locals>.run_until_complete\u001b[1;34m(self, future)\u001b[0m\n\u001b[0;32m     95\u001b[0m \u001b[38;5;28;01mif\u001b[39;00m \u001b[38;5;129;01mnot\u001b[39;00m f\u001b[38;5;241m.\u001b[39mdone():\n\u001b[0;32m     96\u001b[0m     \u001b[38;5;28;01mraise\u001b[39;00m \u001b[38;5;167;01mRuntimeError\u001b[39;00m(\n\u001b[0;32m     97\u001b[0m         \u001b[38;5;124m'\u001b[39m\u001b[38;5;124mEvent loop stopped before Future completed.\u001b[39m\u001b[38;5;124m'\u001b[39m)\n\u001b[1;32m---> 98\u001b[0m \u001b[38;5;28;01mreturn\u001b[39;00m \u001b[43mf\u001b[49m\u001b[38;5;241;43m.\u001b[39;49m\u001b[43mresult\u001b[49m\u001b[43m(\u001b[49m\u001b[43m)\u001b[49m\n",
      "File \u001b[1;32mC:\\Program Files\\WindowsApps\\PythonSoftwareFoundation.Python.3.13_3.13.1008.0_x64__qbz5n2kfra8p0\\Lib\\asyncio\\futures.py:199\u001b[0m, in \u001b[0;36mFuture.result\u001b[1;34m(self)\u001b[0m\n\u001b[0;32m    197\u001b[0m \u001b[38;5;28mself\u001b[39m\u001b[38;5;241m.\u001b[39m__log_traceback \u001b[38;5;241m=\u001b[39m \u001b[38;5;28;01mFalse\u001b[39;00m\n\u001b[0;32m    198\u001b[0m \u001b[38;5;28;01mif\u001b[39;00m \u001b[38;5;28mself\u001b[39m\u001b[38;5;241m.\u001b[39m_exception \u001b[38;5;129;01mis\u001b[39;00m \u001b[38;5;129;01mnot\u001b[39;00m \u001b[38;5;28;01mNone\u001b[39;00m:\n\u001b[1;32m--> 199\u001b[0m     \u001b[38;5;28;01mraise\u001b[39;00m \u001b[38;5;28mself\u001b[39m\u001b[38;5;241m.\u001b[39m_exception\u001b[38;5;241m.\u001b[39mwith_traceback(\u001b[38;5;28mself\u001b[39m\u001b[38;5;241m.\u001b[39m_exception_tb)\n\u001b[0;32m    200\u001b[0m \u001b[38;5;28;01mreturn\u001b[39;00m \u001b[38;5;28mself\u001b[39m\u001b[38;5;241m.\u001b[39m_result\n",
      "File \u001b[1;32mC:\\Program Files\\WindowsApps\\PythonSoftwareFoundation.Python.3.13_3.13.1008.0_x64__qbz5n2kfra8p0\\Lib\\asyncio\\tasks.py:304\u001b[0m, in \u001b[0;36mTask.__step_run_and_handle_result\u001b[1;34m(***failed resolving arguments***)\u001b[0m\n\u001b[0;32m    300\u001b[0m \u001b[38;5;28;01mtry\u001b[39;00m:\n\u001b[0;32m    301\u001b[0m     \u001b[38;5;28;01mif\u001b[39;00m exc \u001b[38;5;129;01mis\u001b[39;00m \u001b[38;5;28;01mNone\u001b[39;00m:\n\u001b[0;32m    302\u001b[0m         \u001b[38;5;66;03m# We use the `send` method directly, because coroutines\u001b[39;00m\n\u001b[0;32m    303\u001b[0m         \u001b[38;5;66;03m# don't have `__iter__` and `__next__` methods.\u001b[39;00m\n\u001b[1;32m--> 304\u001b[0m         result \u001b[38;5;241m=\u001b[39m \u001b[43mcoro\u001b[49m\u001b[38;5;241;43m.\u001b[39;49m\u001b[43msend\u001b[49m\u001b[43m(\u001b[49m\u001b[38;5;28;43;01mNone\u001b[39;49;00m\u001b[43m)\u001b[49m\n\u001b[0;32m    305\u001b[0m     \u001b[38;5;28;01melse\u001b[39;00m:\n\u001b[0;32m    306\u001b[0m         result \u001b[38;5;241m=\u001b[39m coro\u001b[38;5;241m.\u001b[39mthrow(exc)\n",
      "File \u001b[1;32m~\\Documents\\Ece4160\\IvannnHuang.github.io\\Lab12\\notebooks\\base_ble.py:119\u001b[0m, in \u001b[0;36mBLEAsyncDevice._write\u001b[1;34m(self, uuid, byte_array)\u001b[0m\n\u001b[0;32m    117\u001b[0m     \u001b[38;5;28;01mawait\u001b[39;00m \u001b[38;5;28mself\u001b[39m\u001b[38;5;241m.\u001b[39mclient\u001b[38;5;241m.\u001b[39mwrite_gatt_char(uuid, byte_array,response\u001b[38;5;241m=\u001b[39m\u001b[38;5;28;01mTrue\u001b[39;00m)\n\u001b[0;32m    118\u001b[0m \u001b[38;5;28;01melse\u001b[39;00m:\n\u001b[1;32m--> 119\u001b[0m     \u001b[38;5;28;01mraise\u001b[39;00m \u001b[38;5;167;01mException\u001b[39;00m(\u001b[38;5;124m\"\u001b[39m\u001b[38;5;124mNot connected to a BLE device\u001b[39m\u001b[38;5;124m\"\u001b[39m)\n",
      "\u001b[1;31mException\u001b[0m: Not connected to a BLE device"
     ]
    }
   ],
   "source": [
    "ble.send_command(CMD.NAVIGATION, f\"20|0.04|0.4|100|3|0.005|150|1.5|-2|-1|1|-1|45|100|90|1.5|200|300|4.6\")  \n",
    "loc.init_grid_beliefs()\n",
    "loc.get_observation_data()\n",
    "loc.update_step()\n",
    "loc.plot_update_step_data(plot_data=True)"
   ]
  },
  {
   "cell_type": "code",
   "execution_count": 13,
   "metadata": {},
   "outputs": [
    {
     "name": "stdout",
     "output_type": "stream",
     "text": [
      "2025-05-09 14:16:32,449 |\u001b[32m INFO     \u001b[0m|: Initializing beliefs with a Uniform Distribution\n",
      "2025-05-09 14:16:32,450 |\u001b[32m INFO     \u001b[0m|: Uniform Belief with each cell value: 0.00051440329218107\n",
      "[[1.298426]\n",
      " [1.451109]]\n",
      "2025-05-09 14:17:01,851 |\u001b[32m INFO     \u001b[0m|: Update Step\n",
      "2025-05-09 14:17:01,853 |\u001b[32m INFO     \u001b[0m|:      | Update Time: 0.001 secs\n",
      "2025-05-09 14:17:01,854 |\u001b[32m INFO     \u001b[0m|: Bel index     : (np.int64(7), np.int64(1), np.int64(8)) with prob = 1.0\n",
      "2025-05-09 14:17:01,855 |\u001b[32m INFO     \u001b[0m|: Bel_bar prob at index = 0.00051440329218107\n",
      "2025-05-09 14:17:01,856 |\u001b[32m INFO     \u001b[0m|: Belief        : (0.610, -0.914, -10.000)\n"
     ]
    }
   ],
   "source": [
    "ble.send_command(CMD.NAVIGATION, f\"20|0.04|0.4|100|3|0.005|150|1.5|{x1}|{y1]|2|-3|45|100|90|1.5|200|500|4.6\")  \n",
    "loc.init_grid_beliefs()\n",
    "loc.get_observation_data()\n",
    "loc.update_step()\n",
    "[x1, y1] = loc.plot_update_step_data(plot_data=True)  "
   ]
  },
  {
   "cell_type": "code",
   "execution_count": 20,
   "metadata": {},
   "outputs": [
    {
     "name": "stdout",
     "output_type": "stream",
     "text": [
      "2025-05-09 14:20:37,861 |\u001b[32m INFO     \u001b[0m|: Initializing beliefs with a Uniform Distribution\n",
      "2025-05-09 14:20:37,862 |\u001b[32m INFO     \u001b[0m|: Uniform Belief with each cell value: 0.00051440329218107\n",
      "[[0.370818]\n",
      " [0.371576]]\n",
      "2025-05-09 14:21:04,565 |\u001b[32m INFO     \u001b[0m|: Update Step\n",
      "2025-05-09 14:21:04,571 |\u001b[32m INFO     \u001b[0m|:      | Update Time: 0.004 secs\n",
      "2025-05-09 14:21:04,573 |\u001b[32m INFO     \u001b[0m|: Bel index     : (np.int64(10), np.int64(1), np.int64(8)) with prob = 0.9999999\n",
      "2025-05-09 14:21:04,576 |\u001b[32m INFO     \u001b[0m|: Bel_bar prob at index = 0.00051440329218107\n",
      "2025-05-09 14:21:04,578 |\u001b[32m INFO     \u001b[0m|: Belief        : (1.524, -0.914, -10.000)\n"
     ]
    }
   ],
   "source": [
    "ble.send_command(CMD.NAVIGATION, f\"20|0.04|0.4|100|3|0.005|150|1.5|{x1}|{y1}|5|-3|45|100|90|1.5|200|500|4.6\")  \n",
    "loc.init_grid_beliefs()\n",
    "loc.get_observation_data()\n",
    "loc.update_step()\n",
    "[x1, y1] = loc.plot_update_step_data(plot_data=True)  "
   ]
  },
  {
   "cell_type": "code",
   "execution_count": 21,
   "metadata": {},
   "outputs": [
    {
     "name": "stdout",
     "output_type": "stream",
     "text": [
      "2025-05-09 14:21:09,363 |\u001b[32m INFO     \u001b[0m|: Initializing beliefs with a Uniform Distribution\n",
      "2025-05-09 14:21:09,364 |\u001b[32m INFO     \u001b[0m|: Uniform Belief with each cell value: 0.00051440329218107\n",
      "[[0.411169]\n",
      " [0.389452]]\n",
      "2025-05-09 14:21:36,185 |\u001b[32m INFO     \u001b[0m|: Update Step\n",
      "2025-05-09 14:21:36,187 |\u001b[32m INFO     \u001b[0m|:      | Update Time: 0.001 secs\n",
      "2025-05-09 14:21:36,188 |\u001b[32m INFO     \u001b[0m|: Bel index     : (np.int64(11), np.int64(3), np.int64(9)) with prob = 0.9999999\n",
      "2025-05-09 14:21:36,189 |\u001b[32m INFO     \u001b[0m|: Bel_bar prob at index = 0.00051440329218107\n",
      "2025-05-09 14:21:36,190 |\u001b[32m INFO     \u001b[0m|: Belief        : (1.829, -0.305, 10.000)\n"
     ]
    }
   ],
   "source": [
    "ble.send_command(CMD.NAVIGATION, f\"20|0.04|0.4|100|3|0.005|150|1.5|5|-3|5|-2|45|100|90|1.5|200|300|4.6\")  \n",
    "loc.init_grid_beliefs()\n",
    "loc.get_observation_data()\n",
    "loc.update_step()\n",
    "loc.plot_update_step_data(plot_data=True)"
   ]
  },
  {
   "cell_type": "code",
   "execution_count": 22,
   "metadata": {},
   "outputs": [
    {
     "name": "stdout",
     "output_type": "stream",
     "text": [
      "2025-05-09 14:21:42,845 |\u001b[32m INFO     \u001b[0m|: Initializing beliefs with a Uniform Distribution\n",
      "2025-05-09 14:21:42,846 |\u001b[32m INFO     \u001b[0m|: Uniform Belief with each cell value: 0.00051440329218107\n",
      "[[0.345092]\n",
      " [0.29114 ]]\n",
      "2025-05-09 14:22:12,008 |\u001b[32m INFO     \u001b[0m|: Update Step\n",
      "2025-05-09 14:22:12,013 |\u001b[32m INFO     \u001b[0m|:      | Update Time: 0.003 secs\n",
      "2025-05-09 14:22:12,015 |\u001b[32m INFO     \u001b[0m|: Bel index     : (np.int64(10), np.int64(6), np.int64(7)) with prob = 1.0\n",
      "2025-05-09 14:22:12,016 |\u001b[32m INFO     \u001b[0m|: Bel_bar prob at index = 0.00051440329218107\n",
      "2025-05-09 14:22:12,017 |\u001b[32m INFO     \u001b[0m|: Belief        : (1.524, 0.610, -30.000)\n"
     ]
    }
   ],
   "source": [
    "ble.send_command(CMD.NAVIGATION, f\"20|0.04|0.4|100|3|0.005|150|1.5|5|-2|5|3|45|100|90|1.5|200|520|4.6\")  \n",
    "loc.init_grid_beliefs()\n",
    "loc.get_observation_data()\n",
    "loc.update_step()\n",
    "loc.plot_update_step_data(plot_data=True)"
   ]
  },
  {
   "cell_type": "code",
   "execution_count": 8,
   "metadata": {},
   "outputs": [
    {
     "name": "stdout",
     "output_type": "stream",
     "text": [
      "2025-05-09 14:55:11,313 |\u001b[32m INFO     \u001b[0m|: Initializing beliefs with a Uniform Distribution\n",
      "2025-05-09 14:55:11,314 |\u001b[32m INFO     \u001b[0m|: Uniform Belief with each cell value: 0.00051440329218107\n",
      "[[0.831375]\n",
      " [0.467727]]\n",
      "2025-05-09 14:55:40,412 |\u001b[32m INFO     \u001b[0m|: Update Step\n",
      "2025-05-09 14:55:40,424 |\u001b[32m INFO     \u001b[0m|:      | Update Time: 0.001 secs\n",
      "2025-05-09 14:55:40,425 |\u001b[32m INFO     \u001b[0m|: Bel index     : (np.int64(5), np.int64(8), np.int64(9)) with prob = 1.0\n",
      "2025-05-09 14:55:40,426 |\u001b[32m INFO     \u001b[0m|: Bel_bar prob at index = 0.00051440329218107\n",
      "2025-05-09 14:55:40,427 |\u001b[32m INFO     \u001b[0m|: Belief        : (0.000, 1.219, 10.000)\n"
     ]
    }
   ],
   "source": [
    "ble.send_command(CMD.NAVIGATION, f\"20|0.04|0.4|100|3|0.008|250|1.5|5|3|0|3|45|95|90|1.5|200|520|3.9\")  \n",
    "loc.init_grid_beliefs()\n",
    "loc.get_observation_data()\n",
    "loc.update_step()\n",
    "loc.plot_update_step_data(plot_data=True)"
   ]
  },
  {
   "cell_type": "code",
   "execution_count": 18,
   "metadata": {},
   "outputs": [
    {
     "name": "stdout",
     "output_type": "stream",
     "text": [
      "2025-05-09 15:00:55,408 |\u001b[32m INFO     \u001b[0m|: Looking for Artemis Nano Peripheral Device: c0:c3:e4:25:23:51\n",
      "2025-05-09 15:01:03,448 |\u001b[32m INFO     \u001b[0m|: Connected to c0:c3:e4:25:23:51\n"
     ]
    }
   ],
   "source": [
    "ble = get_ble_controller()\n",
    "ble.connect()"
   ]
  },
  {
   "cell_type": "code",
   "execution_count": 19,
   "metadata": {},
   "outputs": [
    {
     "name": "stdout",
     "output_type": "stream",
     "text": [
      "2025-05-09 15:01:07,962 |\u001b[32m INFO     \u001b[0m|: Initializing beliefs with a Uniform Distribution\n",
      "2025-05-09 15:01:07,963 |\u001b[32m INFO     \u001b[0m|: Uniform Belief with each cell value: 0.00051440329218107\n",
      "[[2.083969]\n",
      " [1.370472]]\n",
      "2025-05-09 15:01:36,942 |\u001b[32m INFO     \u001b[0m|: Update Step\n",
      "2025-05-09 15:01:36,944 |\u001b[32m INFO     \u001b[0m|:      | Update Time: 0.002 secs\n",
      "2025-05-09 15:01:36,946 |\u001b[32m INFO     \u001b[0m|: Bel index     : (np.int64(4), np.int64(3), np.int64(8)) with prob = 0.9994511\n",
      "2025-05-09 15:01:36,947 |\u001b[32m INFO     \u001b[0m|: Bel_bar prob at index = 0.00051440329218107\n",
      "2025-05-09 15:01:36,948 |\u001b[32m INFO     \u001b[0m|: Belief        : (-0.305, -0.305, -10.000)\n",
      "2025-05-09 15:01:53,887 |\u001b[32m INFO     \u001b[0m|: Disconnected from C0:C3:E4:25:23:51\n"
     ]
    }
   ],
   "source": [
    "ble.send_command(CMD.NAVIGATION, f\"20|0.04|0.4|100|3|0.005|150|1.5|0|3|0|0|45|100|90|1.5|200|500|4.6\")  \n",
    "loc.init_grid_beliefs()\n",
    "loc.get_observation_data()\n",
    "loc.update_step()\n",
    "loc.plot_update_step_data(plot_data=True)"
   ]
  },
  {
   "cell_type": "code",
   "execution_count": null,
   "metadata": {},
   "outputs": [],
   "source": []
  },
  {
   "cell_type": "code",
   "execution_count": 12,
   "metadata": {},
   "outputs": [
    {
     "name": "stdout",
     "output_type": "stream",
     "text": [
      "2025-04-24 17:13:59,488 |\u001b[32m INFO     \u001b[0m|: Initializing beliefs with a Uniform Distribution\n",
      "2025-04-24 17:13:59,489 |\u001b[32m INFO     \u001b[0m|: Uniform Belief with each cell value: 0.00051440329218107\n",
      "[[2.853784]\n",
      " [2.154413]\n",
      " [2.43498 ]\n",
      " [2.502618]\n",
      " [1.184313]\n",
      " [0.694924]\n",
      " [0.71937 ]\n",
      " [0.836877]\n",
      " [0.867118]\n",
      " [0.754732]\n",
      " [0.681533]\n",
      " [0.687442]\n",
      " [0.760213]\n",
      " [0.90022 ]\n",
      " [0.803055]\n",
      " [0.671762]\n",
      " [0.646571]\n",
      " [0.680263]]\n",
      "2025-04-24 17:14:20,116 |\u001b[32m INFO     \u001b[0m|: Update Step\n",
      "2025-04-24 17:14:20,123 |\u001b[32m INFO     \u001b[0m|:      | Update Time: 0.005 secs\n",
      "2025-04-24 17:14:20,126 |\u001b[32m INFO     \u001b[0m|: Bel index     : (np.int64(2), np.int64(2), np.int64(9)) with prob = 1.0\n",
      "2025-04-24 17:14:20,128 |\u001b[32m INFO     \u001b[0m|: Bel_bar prob at index = 0.00051440329218107\n",
      "2025-04-24 17:14:20,130 |\u001b[32m INFO     \u001b[0m|: Belief        : (-0.914, -0.610, 10.000)\n"
     ]
    }
   ],
   "source": [
    "# Reset Plots\n",
    "cmdr.reset_plotter()\n",
    "\n",
    "# Init Uniform Belief\n",
    "loc.init_grid_beliefs()\n",
    "\n",
    "# Get Observation Data by executing a 360 degree rotation motion\n",
    "loc.get_observation_data()\n",
    "\n",
    "# Run Update Step\n",
    "loc.update_step()\n",
    "loc.plot_update_step_data(plot_data=True)\n",
    "\n",
    "# Plot Odom and GT\n",
    "# current_odom, current_gt = robot.get_pose()\n",
    "# cmdr.plot_gt(current_gt[0], current_gt[1])\n",
    "# cmdr.plot_odom(current_odom[0], current_odom[1])"
   ]
  },
  {
   "cell_type": "code",
   "execution_count": 13,
   "metadata": {},
   "outputs": [
    {
     "name": "stdout",
     "output_type": "stream",
     "text": [
      "2025-04-24 17:14:23,414 |\u001b[32m INFO     \u001b[0m|: Disconnected from C0:C3:E4:25:23:51\n"
     ]
    }
   ],
   "source": [
    "ble.disconnect()"
   ]
  },
  {
   "cell_type": "code",
   "execution_count": null,
   "metadata": {},
   "outputs": [],
   "source": [
    "waypoints = [[-4, -3], [-2, -1], [1, -1], [2, -3], [5, -3], [5, -2], [5, 3], [0, 3], [0, 0]]"
   ]
  },
  {
   "cell_type": "code",
   "execution_count": null,
   "metadata": {},
   "outputs": [],
   "source": []
  },
  {
   "cell_type": "code",
   "execution_count": 14,
   "metadata": {},
   "outputs": [],
   "source": [
    "point00 = [[0.000, 0.000, -10.000], [0.000, 0.000, -10.000], [0.000, 0.000, -10.000]]"
   ]
  },
  {
   "cell_type": "code",
   "execution_count": 23,
   "metadata": {},
   "outputs": [],
   "source": [
    "point03 = [[0.000, 0.914, -10.000], [0.000, 0.914, -10.000], [0.000, 0.914, -10.000]]"
   ]
  },
  {
   "cell_type": "code",
   "execution_count": 16,
   "metadata": {},
   "outputs": [],
   "source": [
    "point_3_2 = [[-0.610, -0.610, -10.000], [-0.914, -0.610, 10.000], [-0.914, -0.610, 10.000]]"
   ]
  },
  {
   "cell_type": "code",
   "execution_count": 7,
   "metadata": {},
   "outputs": [],
   "source": [
    "point53 = [[1.524, 0.9140, -30.000], [1.524, 0.610, -30.000], [1.524, 0.914, -30.000]]"
   ]
  },
  {
   "cell_type": "code",
   "execution_count": 31,
   "metadata": {},
   "outputs": [],
   "source": [
    "point5_3 = [[1.524, -0.914, -10.000], [0.914, -1.219, -50.000], [1.524, -0.914, -10.000]]"
   ]
  },
  {
   "cell_type": "code",
   "execution_count": 8,
   "metadata": {},
   "outputs": [],
   "source": [
    "loc.plot_pose(point53[0], point53[1], point53[2], [1.53, 0.92])"
   ]
  },
  {
   "cell_type": "code",
   "execution_count": null,
   "metadata": {},
   "outputs": [],
   "source": []
  }
 ],
 "metadata": {
  "kernelspec": {
   "display_name": "Python 3 (ipykernel)",
   "language": "python",
   "name": "python3"
  },
  "language_info": {
   "codemirror_mode": {
    "name": "ipython",
    "version": 3
   },
   "file_extension": ".py",
   "mimetype": "text/x-python",
   "name": "python",
   "nbconvert_exporter": "python",
   "pygments_lexer": "ipython3",
   "version": "3.13.3"
  }
 },
 "nbformat": 4,
 "nbformat_minor": 4
}
